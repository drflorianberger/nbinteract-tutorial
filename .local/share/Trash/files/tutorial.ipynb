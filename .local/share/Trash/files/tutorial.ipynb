from ipywidgets import interact
def square(x):
    return x * x
    
interact(square, x=10);
interact(square, x=(0, 100, 10));
